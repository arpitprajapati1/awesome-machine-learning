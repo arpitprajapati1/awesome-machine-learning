{
  "nbformat": 4,
  "nbformat_minor": 0,
  "metadata": {
    "colab": {
      "name": "Gender_prediction.ipynb",
      "private_outputs": true,
      "provenance": [],
      "collapsed_sections": [],
      "authorship_tag": "ABX9TyOm1TD4rTMv+06yKd0xR1yw",
      "include_colab_link": true
    },
    "kernelspec": {
      "name": "python3",
      "display_name": "Python 3"
    },
    "language_info": {
      "name": "python"
    }
  },
  "cells": [
    {
      "cell_type": "markdown",
      "metadata": {
        "id": "view-in-github",
        "colab_type": "text"
      },
      "source": [
        "<a href=\"https://colab.research.google.com/github/arpitprajapati1/awesome-machine-learning/blob/master/Gender_prediction.ipynb\" target=\"_parent\"><img src=\"https://colab.research.google.com/assets/colab-badge.svg\" alt=\"Open In Colab\"/></a>"
      ]
    },
    {
      "cell_type": "code",
      "metadata": {
        "id": "MtE4DZ90WPQK"
      },
      "source": [
        "X = [[181, 80, 44], [177, 70, 43], [160, 60, 38], \n",
        "     [154, 54, 37],[166, 65, 40], [190, 90, 47], [175, 64, 39],\n",
        "     [177, 70, 40], [159, 55, 37], [171, 75, 42], \n",
        "     [181, 85, 43], [168, 75, 41], [168, 77, 41]]\n",
        "\n",
        "Y = [ \"male\", \"male\",\"female\", \"female\", \"male\", \"male\", \n",
        "    \"female\",\"female\",\"female\", \"male\", \"male\",\n",
        "     \"female\",\"female\"]\n",
        "test_data = [[190, 70, 43],[154, 75, 38],[181,65,40]]\n",
        "test_labels = [\"male\",\"female\",\"male\"]\n",
        "from sklearn import tree\n",
        "#The code for the classification is as follows\n",
        "#DecisionTreeClassifier\n",
        "dtc_clf = tree.DecisionTreeClassifier()\n",
        "dtc_clf = dtc_clf.fit(X,Y)\n",
        "dtc_prediction = dtc_clf.predict(test_data)\n",
        "print( dtc_prediction)"
      ],
      "execution_count": null,
      "outputs": []
    },
    {
      "cell_type": "code",
      "metadata": {
        "id": "qLP3RZXjY2iv"
      },
      "source": [
        ""
      ],
      "execution_count": null,
      "outputs": []
    }
  ]
}